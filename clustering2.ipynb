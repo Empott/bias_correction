{
 "cells": [
  {
   "cell_type": "markdown",
   "metadata": {},
   "source": [
    "# Import modules"
   ]
  },
  {
   "cell_type": "code",
   "execution_count": 1,
   "metadata": {},
   "outputs": [],
   "source": [
    "from netCDF4 import Dataset as Dataset\n",
    "import xarray as xr\n",
    "import numpy as np\n",
    "import matplotlib\n",
    "import glob\n",
    "from datetime import datetime\n",
    "from wrf import getvar, ALL_TIMES\n",
    "import netCDF4 as nc\n",
    "import glob\n",
    "from datetime import datetime\n",
    "import shapefile\n",
    "from matplotlib.path import Path\n",
    "from matplotlib.patches import PathPatch\n",
    "from shapely.geometry import Polygon, Point\n",
    "import numpy.ma as ma\n",
    "import scipy\n",
    "import scipy.stats as stats\n",
    "from matplotlib import pyplot as plt\n",
    "import pandas as pd\n",
    "import pytz"
   ]
  },
  {
   "cell_type": "markdown",
   "metadata": {},
   "source": [
    "# Load in data"
   ]
  },
  {
   "cell_type": "code",
   "execution_count": 3,
   "metadata": {},
   "outputs": [],
   "source": [
    "daily_precipitation=xr.open_dataset('/data/PeruGROWS/analysis_data/daily_precip.nc')\n",
    "lats=xr.open_dataset('/data/PeruGROWS/analysis_data/inner_dom_lats.nc')\n",
    "lons=xr.open_dataset('/data/PeruGROWS/analysis_data/inner_dom_lats.nc')"
   ]
  },
  {
   "cell_type": "markdown",
   "metadata": {},
   "source": [
    "# First attempt at clustering"
   ]
  },
  {
   "cell_type": "code",
   "execution_count": 5,
   "metadata": {},
   "outputs": [],
   "source": [
    "precip_flat=daily_precipitation.stack(z=('south_north','west_east'))"
   ]
  },
  {
   "cell_type": "code",
   "execution_count": null,
   "metadata": {},
   "outputs": [],
   "source": []
  }
 ],
 "metadata": {
  "kernelspec": {
   "display_name": "Python (Emilyenv)",
   "language": "python",
   "name": "emilyconda"
  },
  "language_info": {
   "codemirror_mode": {
    "name": "ipython",
    "version": 2
   },
   "file_extension": ".py",
   "mimetype": "text/x-python",
   "name": "python",
   "nbconvert_exporter": "python",
   "pygments_lexer": "ipython2",
   "version": "2.7.15"
  }
 },
 "nbformat": 4,
 "nbformat_minor": 2
}
